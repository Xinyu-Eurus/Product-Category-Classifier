{
 "cells": [
  {
   "cell_type": "code",
   "execution_count": 5,
   "metadata": {},
   "outputs": [
    {
     "data": {
      "text/html": [
       "<div>\n",
       "<style scoped>\n",
       "    .dataframe tbody tr th:only-of-type {\n",
       "        vertical-align: middle;\n",
       "    }\n",
       "\n",
       "    .dataframe tbody tr th {\n",
       "        vertical-align: top;\n",
       "    }\n",
       "\n",
       "    .dataframe thead th {\n",
       "        text-align: right;\n",
       "    }\n",
       "</style>\n",
       "<table border=\"1\" class=\"dataframe\">\n",
       "  <thead>\n",
       "    <tr style=\"text-align: right;\">\n",
       "      <th></th>\n",
       "      <th>category</th>\n",
       "      <th>title</th>\n",
       "      <th>rating</th>\n",
       "      <th>review_text</th>\n",
       "    </tr>\n",
       "    <tr>\n",
       "      <th>id</th>\n",
       "      <th></th>\n",
       "      <th></th>\n",
       "      <th></th>\n",
       "      <th></th>\n",
       "    </tr>\n",
       "  </thead>\n",
       "  <tbody>\n",
       "    <tr>\n",
       "      <th>daa54754-af9c-41c0-b542-fe5eabc5919c</th>\n",
       "      <td>Kitchen</td>\n",
       "      <td>Bodum Travel Press 12-Ounce French Press Coffe...</td>\n",
       "      <td>5</td>\n",
       "      <td>Great!</td>\n",
       "    </tr>\n",
       "    <tr>\n",
       "      <th>ab602aca-9bad-4aa9-bd42-6ce24cdf8680</th>\n",
       "      <td>Kitchen</td>\n",
       "      <td>RH Forschner by Victorinox BladeSafe for Knife...</td>\n",
       "      <td>5</td>\n",
       "      <td>It fit perfectly on my new&lt;br /&gt;Victorinox Fib...</td>\n",
       "    </tr>\n",
       "    <tr>\n",
       "      <th>f98cd8d3-d6fe-4ee3-8c9f-a18c1690f7a6</th>\n",
       "      <td>Kitchen</td>\n",
       "      <td>Bellemain 12-Cup Nonstick Madeleine Pan</td>\n",
       "      <td>5</td>\n",
       "      <td>Excellent pan - my daughter just made madelein...</td>\n",
       "    </tr>\n",
       "    <tr>\n",
       "      <th>396f73e3-e3ef-4c93-a4b7-e8b04c6a2223</th>\n",
       "      <td>Jewelry</td>\n",
       "      <td>8mm Heat Treated Agate Beads Tibetan Buddhist ...</td>\n",
       "      <td>3</td>\n",
       "      <td>not the good one  but not bad</td>\n",
       "    </tr>\n",
       "    <tr>\n",
       "      <th>329ed5e3-8b47-4e78-961b-18b89e7da808</th>\n",
       "      <td>Jewelry</td>\n",
       "      <td>2.50 Ct Oval Black Onyx 925 Sterling Silver Pe...</td>\n",
       "      <td>1</td>\n",
       "      <td>This is a rip off. It only comes with this nec...</td>\n",
       "    </tr>\n",
       "    <tr>\n",
       "      <th>...</th>\n",
       "      <td>...</td>\n",
       "      <td>...</td>\n",
       "      <td>...</td>\n",
       "      <td>...</td>\n",
       "    </tr>\n",
       "    <tr>\n",
       "      <th>b7856c82-500f-4cbc-a790-4a931a20f8c5</th>\n",
       "      <td>Kitchen</td>\n",
       "      <td>OXO Good Grips Classic Tea Kettle, Brushed Sta...</td>\n",
       "      <td>5</td>\n",
       "      <td>I love this tea kettle! It is extremely well m...</td>\n",
       "    </tr>\n",
       "    <tr>\n",
       "      <th>877bf80b-f1fc-42f9-9d8b-8b7f523d426d</th>\n",
       "      <td>Kitchen</td>\n",
       "      <td>Tupperware Sheerly Elegant Pitcher</td>\n",
       "      <td>5</td>\n",
       "      <td>it's my favorite pitcher</td>\n",
       "    </tr>\n",
       "    <tr>\n",
       "      <th>212ef621-603f-4911-9c36-8d0f369250c7</th>\n",
       "      <td>Kitchen</td>\n",
       "      <td>Emsa Perfect Beaker</td>\n",
       "      <td>5</td>\n",
       "      <td>Awesome product with lots of measurements. Pla...</td>\n",
       "    </tr>\n",
       "    <tr>\n",
       "      <th>c0eddca4-8ad8-4ca5-9ab1-404050dde240</th>\n",
       "      <td>Kitchen</td>\n",
       "      <td>Thermos ELEMENT5 16-Ounce Food Jar</td>\n",
       "      <td>5</td>\n",
       "      <td>Keeps your good hot for a long time. Very conv...</td>\n",
       "    </tr>\n",
       "    <tr>\n",
       "      <th>d8969393-3567-4cc7-a979-2373c8725738</th>\n",
       "      <td>Kitchen</td>\n",
       "      <td>Farberware Classic 17-Piece Tool and Gadget Set</td>\n",
       "      <td>5</td>\n",
       "      <td>So handy and feel good in the hand.</td>\n",
       "    </tr>\n",
       "  </tbody>\n",
       "</table>\n",
       "<p>500 rows × 4 columns</p>\n",
       "</div>"
      ],
      "text/plain": [
       "                                     category  \\\n",
       "id                                              \n",
       "daa54754-af9c-41c0-b542-fe5eabc5919c  Kitchen   \n",
       "ab602aca-9bad-4aa9-bd42-6ce24cdf8680  Kitchen   \n",
       "f98cd8d3-d6fe-4ee3-8c9f-a18c1690f7a6  Kitchen   \n",
       "396f73e3-e3ef-4c93-a4b7-e8b04c6a2223  Jewelry   \n",
       "329ed5e3-8b47-4e78-961b-18b89e7da808  Jewelry   \n",
       "...                                       ...   \n",
       "b7856c82-500f-4cbc-a790-4a931a20f8c5  Kitchen   \n",
       "877bf80b-f1fc-42f9-9d8b-8b7f523d426d  Kitchen   \n",
       "212ef621-603f-4911-9c36-8d0f369250c7  Kitchen   \n",
       "c0eddca4-8ad8-4ca5-9ab1-404050dde240  Kitchen   \n",
       "d8969393-3567-4cc7-a979-2373c8725738  Kitchen   \n",
       "\n",
       "                                                                                  title  \\\n",
       "id                                                                                        \n",
       "daa54754-af9c-41c0-b542-fe5eabc5919c  Bodum Travel Press 12-Ounce French Press Coffe...   \n",
       "ab602aca-9bad-4aa9-bd42-6ce24cdf8680  RH Forschner by Victorinox BladeSafe for Knife...   \n",
       "f98cd8d3-d6fe-4ee3-8c9f-a18c1690f7a6            Bellemain 12-Cup Nonstick Madeleine Pan   \n",
       "396f73e3-e3ef-4c93-a4b7-e8b04c6a2223  8mm Heat Treated Agate Beads Tibetan Buddhist ...   \n",
       "329ed5e3-8b47-4e78-961b-18b89e7da808  2.50 Ct Oval Black Onyx 925 Sterling Silver Pe...   \n",
       "...                                                                                 ...   \n",
       "b7856c82-500f-4cbc-a790-4a931a20f8c5  OXO Good Grips Classic Tea Kettle, Brushed Sta...   \n",
       "877bf80b-f1fc-42f9-9d8b-8b7f523d426d                 Tupperware Sheerly Elegant Pitcher   \n",
       "212ef621-603f-4911-9c36-8d0f369250c7                                Emsa Perfect Beaker   \n",
       "c0eddca4-8ad8-4ca5-9ab1-404050dde240                 Thermos ELEMENT5 16-Ounce Food Jar   \n",
       "d8969393-3567-4cc7-a979-2373c8725738    Farberware Classic 17-Piece Tool and Gadget Set   \n",
       "\n",
       "                                      rating  \\\n",
       "id                                             \n",
       "daa54754-af9c-41c0-b542-fe5eabc5919c       5   \n",
       "ab602aca-9bad-4aa9-bd42-6ce24cdf8680       5   \n",
       "f98cd8d3-d6fe-4ee3-8c9f-a18c1690f7a6       5   \n",
       "396f73e3-e3ef-4c93-a4b7-e8b04c6a2223       3   \n",
       "329ed5e3-8b47-4e78-961b-18b89e7da808       1   \n",
       "...                                      ...   \n",
       "b7856c82-500f-4cbc-a790-4a931a20f8c5       5   \n",
       "877bf80b-f1fc-42f9-9d8b-8b7f523d426d       5   \n",
       "212ef621-603f-4911-9c36-8d0f369250c7       5   \n",
       "c0eddca4-8ad8-4ca5-9ab1-404050dde240       5   \n",
       "d8969393-3567-4cc7-a979-2373c8725738       5   \n",
       "\n",
       "                                                                            review_text  \n",
       "id                                                                                       \n",
       "daa54754-af9c-41c0-b542-fe5eabc5919c                                             Great!  \n",
       "ab602aca-9bad-4aa9-bd42-6ce24cdf8680  It fit perfectly on my new<br />Victorinox Fib...  \n",
       "f98cd8d3-d6fe-4ee3-8c9f-a18c1690f7a6  Excellent pan - my daughter just made madelein...  \n",
       "396f73e3-e3ef-4c93-a4b7-e8b04c6a2223                      not the good one  but not bad  \n",
       "329ed5e3-8b47-4e78-961b-18b89e7da808  This is a rip off. It only comes with this nec...  \n",
       "...                                                                                 ...  \n",
       "b7856c82-500f-4cbc-a790-4a931a20f8c5  I love this tea kettle! It is extremely well m...  \n",
       "877bf80b-f1fc-42f9-9d8b-8b7f523d426d                           it's my favorite pitcher  \n",
       "212ef621-603f-4911-9c36-8d0f369250c7  Awesome product with lots of measurements. Pla...  \n",
       "c0eddca4-8ad8-4ca5-9ab1-404050dde240  Keeps your good hot for a long time. Very conv...  \n",
       "d8969393-3567-4cc7-a979-2373c8725738                So handy and feel good in the hand.  \n",
       "\n",
       "[500 rows x 4 columns]"
      ]
     },
     "execution_count": 5,
     "metadata": {},
     "output_type": "execute_result"
    }
   ],
   "source": [
    "import pandas as pd\n",
    "import sklearn\n",
    "\n",
    "# df1 = pd.read_csv('./dataset/products-data-0.tsv', sep='\\t', header=None, names=['id', 'category','title'], index_col=0)\n",
    "# df2 = pd.read_csv('./dataset/reviews-0.tsv', sep='\\t', header=None, names=['id', 'rating','review_text'], index_col=0)\n",
    "# df1.merge(df2, left_on='id', right_on='id')"
   ]
  },
  {
   "cell_type": "code",
   "execution_count": 37,
   "metadata": {},
   "outputs": [
    {
     "name": "stdout",
     "output_type": "stream",
     "text": [
      "products-data-0 (500, 2) reviews-0 (500, 2)\n",
      "products-data-1 (500, 2) reviews-1 (500, 2)\n",
      "products-data (1000, 2) reviews (1000, 2)\n",
      "products-data-2 (500, 2) reviews-2 (500, 2)\n",
      "products-data (1500, 2) reviews (1500, 2)\n",
      "products-data-3 (254, 2) reviews-3 (254, 2)\n",
      "products-data (1754, 2) reviews (1754, 2)\n",
      "df_all (1754, 4)\n"
     ]
    }
   ],
   "source": [
    "# read tsv data and merge product data with reviews \n",
    "# (left join, so that every row has a value of category, but might not have a value of review_text)\n",
    "# n is the number of pairs of tsv files, out_name is name of saved integrated new file\n",
    "\n",
    "def read_and_merge_data(n=4,out_name='all'):\n",
    "    df_products = pd.read_csv('./dataset/products-data-0.tsv', sep='\\t', header=None, names=['id', 'category','title'], index_col=0)\n",
    "    df_reviews = pd.read_csv('./dataset/reviews-0.tsv', sep='\\t', header=None, names=['id', 'rating','review_text'], index_col=0)\n",
    "    print(\"products-data-0\", df_products.shape, \"reviews-0\", df_reviews.shape)\n",
    "    \n",
    "    for i in range(1,n):\n",
    "        df_1 = pd.read_csv('./dataset/products-data-'+str(i)+'.tsv', sep='\\t', header=None, names=['id', 'category','title'], index_col=0)\n",
    "        df_2 = pd.read_csv('./dataset/reviews-'+str(i)+'.tsv', sep='\\t', header=None, names=['id', 'rating','review_text'], index_col=0)\n",
    "        print(\"products-data-\"+str(i), df_1.shape, \"reviews-\"+str(i), df_2.shape)\n",
    "        df_products=pd.concat([df_products, df_1])\n",
    "        df_reviews=pd.concat([df_reviews, df_2])\n",
    "        print(\"products-data\", df_products.shape, \"reviews\", df_reviews.shape)\n",
    "        \n",
    "    df_all=df_products.merge(df_reviews, how='left', left_on='id', right_on='id')\n",
    "    print(\"df_all\", df_all.shape)\n",
    "    df_all.to_csv('./dataset/'+out_name+'.csv')\n",
    "    return df_all\n",
    "\n",
    "df_all=read_and_merge_data()"
   ]
  },
  {
   "cell_type": "code",
   "execution_count": 38,
   "metadata": {},
   "outputs": [],
   "source": [
    "df_all.fillna(value='null', inplace=True)"
   ]
  },
  {
   "cell_type": "code",
   "execution_count": 39,
   "metadata": {},
   "outputs": [
    {
     "data": {
      "text/plain": [
       "'null'"
      ]
     },
     "execution_count": 39,
     "metadata": {},
     "output_type": "execute_result"
    }
   ],
   "source": [
    "df_all['review_text']['290296ea-0206-4d0b-b7e7-0c3c2609c13e']"
   ]
  },
  {
   "cell_type": "code",
   "execution_count": 28,
   "metadata": {},
   "outputs": [
    {
     "data": {
      "text/plain": [
       "id\n",
       "daa54754-af9c-41c0-b542-fe5eabc5919c    Kitchen\n",
       "396f73e3-e3ef-4c93-a4b7-e8b04c6a2223    Jewelry\n",
       "4867f4fd-8943-4982-9ad8-4166182992ca     Ktchen\n",
       "Name: category, dtype: object"
      ]
     },
     "execution_count": 28,
     "metadata": {},
     "output_type": "execute_result"
    }
   ],
   "source": [
    "df_all[\"category\"].drop_duplicates()"
   ]
  },
  {
   "cell_type": "code",
   "execution_count": 40,
   "metadata": {},
   "outputs": [
    {
     "data": {
      "text/html": [
       "<div>\n",
       "<style scoped>\n",
       "    .dataframe tbody tr th:only-of-type {\n",
       "        vertical-align: middle;\n",
       "    }\n",
       "\n",
       "    .dataframe tbody tr th {\n",
       "        vertical-align: top;\n",
       "    }\n",
       "\n",
       "    .dataframe thead th {\n",
       "        text-align: right;\n",
       "    }\n",
       "</style>\n",
       "<table border=\"1\" class=\"dataframe\">\n",
       "  <thead>\n",
       "    <tr style=\"text-align: right;\">\n",
       "      <th></th>\n",
       "      <th>category</th>\n",
       "      <th>title</th>\n",
       "      <th>rating</th>\n",
       "      <th>review_text</th>\n",
       "      <th>label</th>\n",
       "    </tr>\n",
       "    <tr>\n",
       "      <th>id</th>\n",
       "      <th></th>\n",
       "      <th></th>\n",
       "      <th></th>\n",
       "      <th></th>\n",
       "      <th></th>\n",
       "    </tr>\n",
       "  </thead>\n",
       "  <tbody>\n",
       "    <tr>\n",
       "      <th>daa54754-af9c-41c0-b542-fe5eabc5919c</th>\n",
       "      <td>Kitchen</td>\n",
       "      <td>Bodum Travel Press 12-Ounce French Press Coffe...</td>\n",
       "      <td>5</td>\n",
       "      <td>Great!</td>\n",
       "      <td>0</td>\n",
       "    </tr>\n",
       "    <tr>\n",
       "      <th>ab602aca-9bad-4aa9-bd42-6ce24cdf8680</th>\n",
       "      <td>Kitchen</td>\n",
       "      <td>RH Forschner by Victorinox BladeSafe for Knife...</td>\n",
       "      <td>5</td>\n",
       "      <td>It fit perfectly on my new&lt;br /&gt;Victorinox Fib...</td>\n",
       "      <td>0</td>\n",
       "    </tr>\n",
       "    <tr>\n",
       "      <th>f98cd8d3-d6fe-4ee3-8c9f-a18c1690f7a6</th>\n",
       "      <td>Kitchen</td>\n",
       "      <td>Bellemain 12-Cup Nonstick Madeleine Pan</td>\n",
       "      <td>5</td>\n",
       "      <td>Excellent pan - my daughter just made madelein...</td>\n",
       "      <td>0</td>\n",
       "    </tr>\n",
       "    <tr>\n",
       "      <th>396f73e3-e3ef-4c93-a4b7-e8b04c6a2223</th>\n",
       "      <td>Jewelry</td>\n",
       "      <td>8mm Heat Treated Agate Beads Tibetan Buddhist ...</td>\n",
       "      <td>3</td>\n",
       "      <td>not the good one  but not bad</td>\n",
       "      <td>1</td>\n",
       "    </tr>\n",
       "    <tr>\n",
       "      <th>329ed5e3-8b47-4e78-961b-18b89e7da808</th>\n",
       "      <td>Jewelry</td>\n",
       "      <td>2.50 Ct Oval Black Onyx 925 Sterling Silver Pe...</td>\n",
       "      <td>1</td>\n",
       "      <td>This is a rip off. It only comes with this nec...</td>\n",
       "      <td>1</td>\n",
       "    </tr>\n",
       "    <tr>\n",
       "      <th>...</th>\n",
       "      <td>...</td>\n",
       "      <td>...</td>\n",
       "      <td>...</td>\n",
       "      <td>...</td>\n",
       "      <td>...</td>\n",
       "    </tr>\n",
       "    <tr>\n",
       "      <th>def6de43-649a-47c8-9b79-2dd94f21689d</th>\n",
       "      <td>Ktchen</td>\n",
       "      <td>Ateco 608 Revolving Cake Decorating Stand, 11\"...</td>\n",
       "      <td>5</td>\n",
       "      <td>Great product delivered on time. it is a wonde...</td>\n",
       "      <td>0</td>\n",
       "    </tr>\n",
       "    <tr>\n",
       "      <th>a2b774d3-5a75-47bb-91d8-59c8e3769f51</th>\n",
       "      <td>Jewelry</td>\n",
       "      <td>Leather Bracelet Cuff Rhinestone Cross and Edg...</td>\n",
       "      <td>2</td>\n",
       "      <td>Snap broke before I even wore it</td>\n",
       "      <td>1</td>\n",
       "    </tr>\n",
       "    <tr>\n",
       "      <th>0e6c70dd-44d6-40e5-b635-360302acc275</th>\n",
       "      <td>Jewelry</td>\n",
       "      <td>GULICX White Gold Tone Shining Radiant White C...</td>\n",
       "      <td>5</td>\n",
       "      <td>Love the BLACK color, and the setting is beaut...</td>\n",
       "      <td>1</td>\n",
       "    </tr>\n",
       "    <tr>\n",
       "      <th>1df86592-7c6b-4194-ae09-7a2ea30093a0</th>\n",
       "      <td>Jewelry</td>\n",
       "      <td>Sterling Silver Continuous Endless Wire Hoop E...</td>\n",
       "      <td>5</td>\n",
       "      <td>Earrings are lovely. I had a question about th...</td>\n",
       "      <td>1</td>\n",
       "    </tr>\n",
       "    <tr>\n",
       "      <th>d0876e7b-0267-4ac6-ba5d-e955bd2ffda1</th>\n",
       "      <td>Ktchen</td>\n",
       "      <td>SterlingPro Double Wall Stainless Steel French...</td>\n",
       "      <td>5</td>\n",
       "      <td>Nicely build with 2 spare filter.&lt;br /&gt;All sta...</td>\n",
       "      <td>0</td>\n",
       "    </tr>\n",
       "  </tbody>\n",
       "</table>\n",
       "<p>1754 rows × 5 columns</p>\n",
       "</div>"
      ],
      "text/plain": [
       "                                     category  \\\n",
       "id                                              \n",
       "daa54754-af9c-41c0-b542-fe5eabc5919c  Kitchen   \n",
       "ab602aca-9bad-4aa9-bd42-6ce24cdf8680  Kitchen   \n",
       "f98cd8d3-d6fe-4ee3-8c9f-a18c1690f7a6  Kitchen   \n",
       "396f73e3-e3ef-4c93-a4b7-e8b04c6a2223  Jewelry   \n",
       "329ed5e3-8b47-4e78-961b-18b89e7da808  Jewelry   \n",
       "...                                       ...   \n",
       "def6de43-649a-47c8-9b79-2dd94f21689d   Ktchen   \n",
       "a2b774d3-5a75-47bb-91d8-59c8e3769f51  Jewelry   \n",
       "0e6c70dd-44d6-40e5-b635-360302acc275  Jewelry   \n",
       "1df86592-7c6b-4194-ae09-7a2ea30093a0  Jewelry   \n",
       "d0876e7b-0267-4ac6-ba5d-e955bd2ffda1   Ktchen   \n",
       "\n",
       "                                                                                  title  \\\n",
       "id                                                                                        \n",
       "daa54754-af9c-41c0-b542-fe5eabc5919c  Bodum Travel Press 12-Ounce French Press Coffe...   \n",
       "ab602aca-9bad-4aa9-bd42-6ce24cdf8680  RH Forschner by Victorinox BladeSafe for Knife...   \n",
       "f98cd8d3-d6fe-4ee3-8c9f-a18c1690f7a6            Bellemain 12-Cup Nonstick Madeleine Pan   \n",
       "396f73e3-e3ef-4c93-a4b7-e8b04c6a2223  8mm Heat Treated Agate Beads Tibetan Buddhist ...   \n",
       "329ed5e3-8b47-4e78-961b-18b89e7da808  2.50 Ct Oval Black Onyx 925 Sterling Silver Pe...   \n",
       "...                                                                                 ...   \n",
       "def6de43-649a-47c8-9b79-2dd94f21689d  Ateco 608 Revolving Cake Decorating Stand, 11\"...   \n",
       "a2b774d3-5a75-47bb-91d8-59c8e3769f51  Leather Bracelet Cuff Rhinestone Cross and Edg...   \n",
       "0e6c70dd-44d6-40e5-b635-360302acc275  GULICX White Gold Tone Shining Radiant White C...   \n",
       "1df86592-7c6b-4194-ae09-7a2ea30093a0  Sterling Silver Continuous Endless Wire Hoop E...   \n",
       "d0876e7b-0267-4ac6-ba5d-e955bd2ffda1  SterlingPro Double Wall Stainless Steel French...   \n",
       "\n",
       "                                     rating  \\\n",
       "id                                            \n",
       "daa54754-af9c-41c0-b542-fe5eabc5919c      5   \n",
       "ab602aca-9bad-4aa9-bd42-6ce24cdf8680      5   \n",
       "f98cd8d3-d6fe-4ee3-8c9f-a18c1690f7a6      5   \n",
       "396f73e3-e3ef-4c93-a4b7-e8b04c6a2223      3   \n",
       "329ed5e3-8b47-4e78-961b-18b89e7da808      1   \n",
       "...                                     ...   \n",
       "def6de43-649a-47c8-9b79-2dd94f21689d      5   \n",
       "a2b774d3-5a75-47bb-91d8-59c8e3769f51      2   \n",
       "0e6c70dd-44d6-40e5-b635-360302acc275      5   \n",
       "1df86592-7c6b-4194-ae09-7a2ea30093a0      5   \n",
       "d0876e7b-0267-4ac6-ba5d-e955bd2ffda1      5   \n",
       "\n",
       "                                                                            review_text  \\\n",
       "id                                                                                        \n",
       "daa54754-af9c-41c0-b542-fe5eabc5919c                                             Great!   \n",
       "ab602aca-9bad-4aa9-bd42-6ce24cdf8680  It fit perfectly on my new<br />Victorinox Fib...   \n",
       "f98cd8d3-d6fe-4ee3-8c9f-a18c1690f7a6  Excellent pan - my daughter just made madelein...   \n",
       "396f73e3-e3ef-4c93-a4b7-e8b04c6a2223                      not the good one  but not bad   \n",
       "329ed5e3-8b47-4e78-961b-18b89e7da808  This is a rip off. It only comes with this nec...   \n",
       "...                                                                                 ...   \n",
       "def6de43-649a-47c8-9b79-2dd94f21689d  Great product delivered on time. it is a wonde...   \n",
       "a2b774d3-5a75-47bb-91d8-59c8e3769f51                   Snap broke before I even wore it   \n",
       "0e6c70dd-44d6-40e5-b635-360302acc275  Love the BLACK color, and the setting is beaut...   \n",
       "1df86592-7c6b-4194-ae09-7a2ea30093a0  Earrings are lovely. I had a question about th...   \n",
       "d0876e7b-0267-4ac6-ba5d-e955bd2ffda1  Nicely build with 2 spare filter.<br />All sta...   \n",
       "\n",
       "                                      label  \n",
       "id                                           \n",
       "daa54754-af9c-41c0-b542-fe5eabc5919c      0  \n",
       "ab602aca-9bad-4aa9-bd42-6ce24cdf8680      0  \n",
       "f98cd8d3-d6fe-4ee3-8c9f-a18c1690f7a6      0  \n",
       "396f73e3-e3ef-4c93-a4b7-e8b04c6a2223      1  \n",
       "329ed5e3-8b47-4e78-961b-18b89e7da808      1  \n",
       "...                                     ...  \n",
       "def6de43-649a-47c8-9b79-2dd94f21689d      0  \n",
       "a2b774d3-5a75-47bb-91d8-59c8e3769f51      1  \n",
       "0e6c70dd-44d6-40e5-b635-360302acc275      1  \n",
       "1df86592-7c6b-4194-ae09-7a2ea30093a0      1  \n",
       "d0876e7b-0267-4ac6-ba5d-e955bd2ffda1      0  \n",
       "\n",
       "[1754 rows x 5 columns]"
      ]
     },
     "execution_count": 40,
     "metadata": {},
     "output_type": "execute_result"
    }
   ],
   "source": [
    "# add a column 'label', 0 for Category of'Kitchen' or 'Ktchen', 1 for 'Jewelry' \n",
    "# if the Category is neither 'Kitchen', 'Ktchen' nor 'Jewelry', print the warning message and delete the row\n",
    "\n",
    "# Define a lambda function for labeling\n",
    "label_function = lambda x: 0 if (x == 'Kitchen' or x == 'Ktchen') else 1 if (x == 'Jewelry') else -1\n",
    "\n",
    "# Apply the function to the 'category' column\n",
    "df_all['label'] = df_all['category'].apply(label_function)\n",
    "df_all"
   ]
  },
  {
   "cell_type": "code",
   "execution_count": 41,
   "metadata": {},
   "outputs": [
    {
     "name": "stdout",
     "output_type": "stream",
     "text": [
      "All labels are valid. No rows with label -1 found.\n"
     ]
    }
   ],
   "source": [
    "rows_with_wrong_label = df_all[df_all['label'] == -1]\n",
    "if not rows_with_wrong_label.empty:\n",
    "    print(\"Rows with label -1:\")\n",
    "    print(rows_with_wrong_label)\n",
    "    # Remove rows that are invalid\n",
    "    df_all = df_all[df_all['label'] != -1]\n",
    "else:\n",
    "    print(\"All labels are valid. No rows with label -1 found.\")\n"
   ]
  },
  {
   "cell_type": "code",
   "execution_count": 68,
   "metadata": {},
   "outputs": [],
   "source": [
    "import nltk\n",
    "import numpy as np\n",
    "from sklearn.linear_model import LogisticRegression\n",
    "from sklearn.feature_extraction.text import CountVectorizer\n",
    "\n",
    "vectorizer = CountVectorizer(ngram_range=(1,1), min_df=1, stop_words='english', lowercase=True)\n",
    "X_1 = vectorizer.fit_transform(df_all[\"title\"].to_numpy())\n",
    "X_2 = vectorizer.fit_transform(df_all[\"review_text\"].to_numpy())\n"
   ]
  },
  {
   "cell_type": "code",
   "execution_count": 69,
   "metadata": {},
   "outputs": [
    {
     "data": {
      "text/plain": [
       "(1754, 3857)"
      ]
     },
     "execution_count": 69,
     "metadata": {},
     "output_type": "execute_result"
    }
   ],
   "source": [
    "X_2.shape"
   ]
  },
  {
   "cell_type": "code",
   "execution_count": 70,
   "metadata": {},
   "outputs": [
    {
     "data": {
      "text/plain": [
       "(1754, 4034)"
      ]
     },
     "execution_count": 70,
     "metadata": {},
     "output_type": "execute_result"
    }
   ],
   "source": [
    "X_1.shape"
   ]
  },
  {
   "cell_type": "code",
   "execution_count": 71,
   "metadata": {},
   "outputs": [
    {
     "data": {
      "text/plain": [
       "<1754x3857 sparse matrix of type '<class 'numpy.int64'>'\n",
       "\twith 15725 stored elements in Compressed Sparse Row format>"
      ]
     },
     "execution_count": 71,
     "metadata": {},
     "output_type": "execute_result"
    }
   ],
   "source": [
    "X_2"
   ]
  },
  {
   "cell_type": "code",
   "execution_count": 72,
   "metadata": {},
   "outputs": [
    {
     "data": {
      "text/plain": [
       "(1754, 7891)"
      ]
     },
     "execution_count": 72,
     "metadata": {},
     "output_type": "execute_result"
    }
   ],
   "source": [
    "from scipy.sparse import hstack\n",
    "X = hstack([X_1, X_2])\n",
    "# X = np.concatenate((X_1, X_2), axis=1)\n",
    "X.shape"
   ]
  },
  {
   "cell_type": "code",
   "execution_count": 73,
   "metadata": {},
   "outputs": [
    {
     "data": {
      "text/plain": [
       "(1754,)"
      ]
     },
     "execution_count": 73,
     "metadata": {},
     "output_type": "execute_result"
    }
   ],
   "source": [
    "y=df_all[\"label\"].to_numpy()\n",
    "y.shape"
   ]
  },
  {
   "cell_type": "code",
   "execution_count": 85,
   "metadata": {},
   "outputs": [
    {
     "data": {
      "text/plain": [
       "LogisticRegression(C=1, max_iter=1000, penalty='l1', random_state=42,\n",
       "                   solver='liblinear')"
      ]
     },
     "execution_count": 85,
     "metadata": {},
     "output_type": "execute_result"
    }
   ],
   "source": [
    "from sklearn.model_selection import train_test_split\n",
    "from sklearn.linear_model import LogisticRegression\n",
    "from sklearn.metrics import accuracy_score\n",
    "from scipy.sparse import vstack\n",
    "\n",
    "# Assuming X is your feature matrix and y is your label array\n",
    "# First, combine X and y to shuffle them consistently\n",
    "Xy = vstack([X.T, y]).T\n",
    "\n",
    "# Shuffle and split the dataset into train (60%), dev (20%), and test (20%) sets\n",
    "Xy_train, Xy_temp = train_test_split(Xy, test_size=0.4, random_state=42)\n",
    "Xy_dev, Xy_test = train_test_split(Xy_temp, test_size=0.5, random_state=42)\n",
    "\n",
    "# Separate the features and labels for each set\n",
    "X_train, y_train = Xy_train[:, :-1], Xy_train[:, -1].toarray().ravel()\n",
    "X_dev, y_dev = Xy_dev[:, :-1], Xy_dev[:, -1].toarray().ravel()\n",
    "X_test, y_test = Xy_test[:, :-1], Xy_test[:, -1].toarray().ravel()\n",
    "\n",
    "# Initialize the Logistic Regression model\n",
    "log_reg = LogisticRegression(C=1, penalty='l1', solver='liblinear', max_iter=1000, random_state=42)\n",
    "\n",
    "# Train the model\n",
    "log_reg.fit(X_train, y_train)"
   ]
  },
  {
   "cell_type": "code",
   "execution_count": 86,
   "metadata": {},
   "outputs": [
    {
     "name": "stdout",
     "output_type": "stream",
     "text": [
      "dev Set Accuracy: 0.9772079772079773\n"
     ]
    }
   ],
   "source": [
    "# Evaluate performance on the test set\n",
    "accuracy_dev = accuracy_score(y_dev, log_reg.predict(X_dev))\n",
    "\n",
    "print(f\"dev Set Accuracy: {accuracy}\")"
   ]
  },
  {
   "cell_type": "code",
   "execution_count": 82,
   "metadata": {},
   "outputs": [
    {
     "name": "stdout",
     "output_type": "stream",
     "text": [
      "Test Set Accuracy: 0.9772079772079773\n"
     ]
    }
   ],
   "source": [
    "# Modify parameters using the development set (this is a basic example, you might want to use GridSearchCV or similar for more thorough tuning)\n",
    "# For example, changing the regularization strength and retraining\n",
    "log_reg.C = 0.5  # This is just an example value\n",
    "log_reg.fit(X_dev, y_dev)\n",
    "\n",
    "# Evaluate performance on the test set\n",
    "y_pred = log_reg.predict(X_test)\n",
    "accuracy = accuracy_score(y_test, y_pred)\n",
    "\n",
    "print(f\"Test Set Accuracy: {accuracy}\")"
   ]
  },
  {
   "cell_type": "code",
   "execution_count": null,
   "metadata": {},
   "outputs": [],
   "source": []
  }
 ],
 "metadata": {
  "kernelspec": {
   "display_name": "Python [conda env:root] *",
   "language": "python",
   "name": "conda-root-py"
  },
  "language_info": {
   "codemirror_mode": {
    "name": "ipython",
    "version": 3
   },
   "file_extension": ".py",
   "mimetype": "text/x-python",
   "name": "python",
   "nbconvert_exporter": "python",
   "pygments_lexer": "ipython3",
   "version": "3.7.2"
  }
 },
 "nbformat": 4,
 "nbformat_minor": 2
}
